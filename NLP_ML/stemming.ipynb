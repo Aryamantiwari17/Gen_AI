{
 "cells": [
  {
   "cell_type": "code",
   "execution_count": 2,
   "metadata": {},
   "outputs": [],
   "source": [
    "###Stemming\n"
   ]
  },
  {
   "cell_type": "code",
   "execution_count": 3,
   "metadata": {},
   "outputs": [],
   "source": [
    "## Classification problem\n",
    "##Comments of product is a positive review or negative review\n",
    "## Reviews----> eating,eat ,eaten--->her eall these are same as there stem word eat is is common in all these\n",
    "\n",
    "\n"
   ]
  },
  {
   "cell_type": "code",
   "execution_count": 21,
   "metadata": {},
   "outputs": [],
   "source": [
    "words=[\"eating\",\"eats\",\"eaten\",\"writing\",\"written\",\"writes\",\"programming\",\"programs\",]"
   ]
  },
  {
   "cell_type": "code",
   "execution_count": 5,
   "metadata": {},
   "outputs": [],
   "source": [
    "from nltk.stem import PorterStemmer\n",
    "stemming=PorterStemmer()\n"
   ]
  },
  {
   "cell_type": "code",
   "execution_count": 6,
   "metadata": {},
   "outputs": [
    {
     "name": "stdout",
     "output_type": "stream",
     "text": [
      "eating ---->eat\n",
      "eats ---->eat\n",
      "eaten ---->eaten\n",
      "writing ---->write\n",
      "written ---->written\n",
      "writes ---->write\n",
      "programming ---->program\n",
      "programs ---->program\n"
     ]
    }
   ],
   "source": [
    "for word in words:\n",
    "    print(word + \" ---->\"+stemming.stem(word))\n"
   ]
  },
  {
   "cell_type": "code",
   "execution_count": 7,
   "metadata": {},
   "outputs": [
    {
     "data": {
      "text/plain": [
       "'congralut'"
      ]
     },
     "execution_count": 7,
     "metadata": {},
     "output_type": "execute_result"
    }
   ],
   "source": [
    "stemming.stem(\"congralutions\")\n"
   ]
  },
  {
   "cell_type": "code",
   "execution_count": 8,
   "metadata": {},
   "outputs": [
    {
     "data": {
      "text/plain": [
       "'sit'"
      ]
     },
     "execution_count": 8,
     "metadata": {},
     "output_type": "execute_result"
    }
   ],
   "source": [
    "stemming.stem(\"sitting\")"
   ]
  },
  {
   "cell_type": "code",
   "execution_count": 16,
   "metadata": {},
   "outputs": [],
   "source": [
    " #Regxpsteemer classes\n",
    "from nltk.stem import RegexpStemmer\n",
    "reg_steemer=RegexpStemmer(\"ing$|s$|e$|able$|en$\",min=5)#dollar meands only last part if not $ means anywhere in the word\n",
    "\n"
   ]
  },
  {
   "cell_type": "code",
   "execution_count": 18,
   "metadata": {},
   "outputs": [
    {
     "data": {
      "text/plain": [
       "'ingeat'"
      ]
     },
     "execution_count": 18,
     "metadata": {},
     "output_type": "execute_result"
    }
   ],
   "source": [
    "reg_steemer.stem(\"eaten\")"
   ]
  },
  {
   "cell_type": "code",
   "execution_count": 38,
   "metadata": {},
   "outputs": [],
   "source": [
    "#snow ball Stemmer\n",
    "from nltk.stem import SnowballStemmer\n",
    "snowballstemmer = SnowballStemmer('english')#the first argument should be the prefered language\n",
    "words=[\"eating\",\"eats\",\"eaten\",\"fairly\",\"writing\",\"written\",\"writes\",\"programming\",\"programs\",]"
   ]
  },
  {
   "cell_type": "code",
   "execution_count": 39,
   "metadata": {},
   "outputs": [
    {
     "name": "stdout",
     "output_type": "stream",
     "text": [
      "eating----->eat\n",
      "eats----->eat\n",
      "eaten----->eaten\n",
      "fairly----->fair\n",
      "writing----->write\n",
      "written----->written\n",
      "writes----->write\n",
      "programming----->program\n",
      "programs----->program\n"
     ]
    }
   ],
   "source": [
    "for word in words:\n",
    "    print(word+\"----->\"+snowballstemmer.stem(word))#always rember to .stem \n",
    "###df between above and now is in the exapmle \"fairly\""
   ]
  }
 ],
 "metadata": {
  "kernelspec": {
   "display_name": "base",
   "language": "python",
   "name": "python3"
  },
  "language_info": {
   "codemirror_mode": {
    "name": "ipython",
    "version": 3
   },
   "file_extension": ".py",
   "mimetype": "text/x-python",
   "name": "python",
   "nbconvert_exporter": "python",
   "pygments_lexer": "ipython3",
   "version": "3.11.5"
  }
 },
 "nbformat": 4,
 "nbformat_minor": 2
}
