{
 "cells": [
  {
   "cell_type": "code",
   "execution_count": 2,
   "metadata": {},
   "outputs": [],
   "source": [
    "#part of speech tag`s\n",
    "from nltk.stem import PorterStemmer\n",
    "stemming=PorterStemmer()"
   ]
  },
  {
   "cell_type": "code",
   "execution_count": 3,
   "metadata": {},
   "outputs": [],
   "source": [
    "paragraph=''' \n",
    "Work done with anxiety about results is far inferior to work done without such anxiety, in the calm of self-surrender. Seek refuge in the knowledge of Brahma. They who work selfishly for results are miserable.”\n",
    "― Bhagavad Gita\n",
    "\n",
    "The words of Shree Krishan inspire me to focus, work hard, and be patient in achieving my goals.\n",
    "\n",
    "In addition to studying another BTech program (CSE) at an institute where I am getting a lot of opportunities, I do a lot outside of college...\n",
    "\n",
    "In particular, I enjoy coding (I'm serious about it), ML (I'm fascinated and curious about it), and finance (I love to explore money, stocks, mutual funds, and sip).\n",
    "\n",
    "My current life consists of these things, but I also listen to a lot of podcasts and read philosophy and spiritual books.\n",
    "\n",
    "Lastly, I have a strong understanding of \"How to communicate with others\n",
    "'''"
   ]
  },
  {
   "cell_type": "code",
   "execution_count": 4,
   "metadata": {},
   "outputs": [],
   "source": [
    "import nltk\n",
    "sentences=nltk.sent_tokenize(paragraph)"
   ]
  },
  {
   "cell_type": "code",
   "execution_count": 5,
   "metadata": {},
   "outputs": [],
   "source": [
    "import nltk\n",
    "from nltk.corpus import stopwords\n",
    "\n",
    "# Tokenize the paragraph into sentences\n",
    "sentences = nltk.sent_tokenize(paragraph)\n"
   ]
  },
  {
   "cell_type": "code",
   "execution_count": 6,
   "metadata": {},
   "outputs": [
    {
     "data": {
      "text/plain": [
       "[' \\nWork done with anxiety about results is far inferior to work done without such anxiety, in the calm of self-surrender.',\n",
       " 'Seek refuge in the knowledge of Brahma.',\n",
       " 'They who work selfishly for results are miserable.”\\n― Bhagavad Gita\\n\\nThe words of Shree Krishan inspire me to focus, work hard, and be patient in achieving my goals.',\n",
       " 'In addition to studying another BTech program (CSE) at an institute where I am getting a lot of opportunities, I do a lot outside of college...',\n",
       " \"In particular, I enjoy coding (I'm serious about it), ML (I'm fascinated and curious about it), and finance (I love to explore money, stocks, mutual funds, and sip).\",\n",
       " 'My current life consists of these things, but I also listen to a lot of podcasts and read philosophy and spiritual books.',\n",
       " 'Lastly, I have a strong understanding of \"How to communicate with others']"
      ]
     },
     "execution_count": 6,
     "metadata": {},
     "output_type": "execute_result"
    }
   ],
   "source": [
    "sentences"
   ]
  },
  {
   "cell_type": "code",
   "execution_count": 7,
   "metadata": {},
   "outputs": [
    {
     "name": "stdout",
     "output_type": "stream",
     "text": [
      "[('Work', 'NN'), ('done', 'VBN'), ('with', 'IN'), ('anxiety', 'NN'), ('about', 'IN'), ('results', 'NNS'), ('is', 'VBZ'), ('far', 'RB'), ('inferior', 'JJ'), ('to', 'TO'), ('work', 'VB'), ('done', 'VBN'), ('without', 'IN'), ('such', 'JJ'), ('anxiety', 'NN'), (',', ','), ('in', 'IN'), ('the', 'DT'), ('calm', 'NN'), ('of', 'IN'), ('self-surrender', 'NN'), ('.', '.')]\n",
      "[('Seek', 'JJ'), ('refuge', 'NN'), ('in', 'IN'), ('the', 'DT'), ('knowledge', 'NN'), ('of', 'IN'), ('Brahma', 'NNP'), ('.', '.')]\n",
      "[('They', 'PRP'), ('who', 'WP'), ('work', 'VBP'), ('selfishly', 'RB'), ('for', 'IN'), ('results', 'NNS'), ('are', 'VBP'), ('miserable.', 'JJ'), ('”', 'NNP'), ('―', 'NNP'), ('Bhagavad', 'NNP'), ('Gita', 'NNP'), ('The', 'DT'), ('words', 'NNS'), ('of', 'IN'), ('Shree', 'NNP'), ('Krishan', 'NNP'), ('inspire', 'NN'), ('to', 'TO'), ('focus', 'VB'), (',', ','), ('work', 'VB'), ('hard', 'RB'), (',', ','), ('and', 'CC'), ('be', 'VB'), ('patient', 'VBN'), ('in', 'IN'), ('achieving', 'VBG'), ('my', 'PRP$'), ('goals', 'NNS'), ('.', '.')]\n",
      "[('In', 'IN'), ('addition', 'NN'), ('to', 'TO'), ('studying', 'VBG'), ('another', 'DT'), ('BTech', 'NNP'), ('program', 'NN'), ('(', '('), ('CSE', 'NNP'), (')', ')'), ('at', 'IN'), ('an', 'DT'), ('institute', 'NN'), ('where', 'WRB'), ('I', 'PRP'), ('am', 'VBP'), ('getting', 'VBG'), ('a', 'DT'), ('lot', 'NN'), ('of', 'IN'), ('opportunities', 'NNS'), (',', ','), ('I', 'PRP'), ('do', 'VBP'), ('a', 'DT'), ('lot', 'NN'), ('outside', 'IN'), ('of', 'IN'), ('college', 'NN'), ('...', ':')]\n",
      "[('In', 'IN'), ('particular', 'JJ'), (',', ','), ('I', 'PRP'), ('enjoy', 'VBP'), ('coding', 'VBG'), ('(', '('), ('I', 'PRP'), (\"'m\", 'VBP'), ('serious', 'JJ'), ('about', 'IN'), ('it', 'PRP'), (')', ')'), (',', ','), ('ML', 'NNP'), ('(', '('), ('I', 'PRP'), (\"'m\", 'VBP'), ('fascinated', 'JJ'), ('and', 'CC'), ('curious', 'JJ'), ('about', 'IN'), ('it', 'PRP'), (')', ')'), (',', ','), ('and', 'CC'), ('finance', 'NN'), ('(', '('), ('I', 'PRP'), ('love', 'VBP'), ('to', 'TO'), ('explore', 'VB'), ('money', 'NN'), (',', ','), ('stocks', 'NNS'), (',', ','), ('mutual', 'JJ'), ('funds', 'NNS'), (',', ','), ('and', 'CC'), ('sip', 'NN'), (')', ')'), ('.', '.')]\n",
      "[('My', 'PRP$'), ('current', 'JJ'), ('life', 'NN'), ('consists', 'VBZ'), ('of', 'IN'), ('these', 'DT'), ('things', 'NNS'), (',', ','), ('but', 'CC'), ('I', 'PRP'), ('also', 'RB'), ('listen', 'VBP'), ('to', 'TO'), ('a', 'DT'), ('lot', 'NN'), ('of', 'IN'), ('podcasts', 'NNS'), ('and', 'CC'), ('read', 'VB'), ('philosophy', 'NN'), ('and', 'CC'), ('spiritual', 'JJ'), ('books', 'NNS'), ('.', '.')]\n",
      "[('Lastly', 'RB'), (',', ','), ('I', 'PRP'), ('have', 'VBP'), ('a', 'DT'), ('strong', 'JJ'), ('understanding', 'NN'), ('of', 'IN'), ('``', '``'), ('How', 'NNP'), ('to', 'TO'), ('communicate', 'VB'), ('with', 'IN'), ('others', 'NNS')]\n"
     ]
    }
   ],
   "source": [
    "## we find the Pos tag\n",
    "for i in range (len(sentences)):\n",
    "    words=nltk.word_tokenize(sentences[i])\n",
    "    words=[word for word in words if word not in set (stopwords.words(\"french\"))]\n",
    "    pos_tag=nltk.pos_tag(words)\n",
    "\n",
    "    print(pos_tag)\n",
    "\n"
   ]
  },
  {
   "cell_type": "code",
   "execution_count": 8,
   "metadata": {},
   "outputs": [
    {
     "data": {
      "text/plain": [
       "'\\nCC coordinating conjunction \\nCD cardinal digit \\nDT determiner \\nEX existential there (like: “there is” … think of it like “there exists”) \\nFW foreign word \\nIN preposition/subordinating conjunction \\nJJ adjective – ‘big’ \\nJJR adjective, comparative – ‘bigger’ \\nJJS adjective, superlative – ‘biggest’ \\nLS list marker 1) \\nMD modal – could, will \\nNN noun, singular ‘- desk’ \\nNNS noun plural – ‘desks’ \\nNNP proper noun, singular – ‘Harrison’ \\nNNPS proper noun, plural – ‘Americans’ \\nPDT predeterminer – ‘all the kids’ \\nPOS possessive ending parent’s \\nPRP personal pronoun –  I, he, she \\nPRP$ possessive pronoun – my, his, hers \\nRB adverb – very, silently, \\nRBR adverb, comparative – better \\nRBS adverb, superlative – best \\nRP particle – give up \\nTO – to go ‘to’ the store. \\nUH interjection – errrrrrrrm \\nVB verb, base form – take \\nVBD verb, past tense – took \\nVBG verb, gerund/present participle – taking \\nVBN verb, past participle – taken \\nVBP verb, sing. present, non-3d – take \\nVBZ verb, 3rd person sing. present – takes \\nWDT wh-determiner – which \\nWP wh-pronoun – who, what \\nWP$ possessive wh-pronoun, eg- whose \\nWRB wh-adverb, eg- where, when\\n\\n\\n'"
      ]
     },
     "execution_count": 8,
     "metadata": {},
     "output_type": "execute_result"
    }
   ],
   "source": [
    "'''\n",
    "CC coordinating conjunction \n",
    "CD cardinal digit \n",
    "DT determiner \n",
    "EX existential there (like: “there is” … think of it like “there exists”) \n",
    "FW foreign word \n",
    "IN preposition/subordinating conjunction \n",
    "JJ adjective – ‘big’ \n",
    "JJR adjective, comparative – ‘bigger’ \n",
    "JJS adjective, superlative – ‘biggest’ \n",
    "LS list marker 1) \n",
    "MD modal – could, will \n",
    "NN noun, singular ‘- desk’ \n",
    "NNS noun plural – ‘desks’ \n",
    "NNP proper noun, singular – ‘Harrison’ \n",
    "NNPS proper noun, plural – ‘Americans’ \n",
    "PDT predeterminer – ‘all the kids’ \n",
    "POS possessive ending parent’s \n",
    "PRP personal pronoun –  I, he, she \n",
    "PRP$ possessive pronoun – my, his, hers \n",
    "RB adverb – very, silently, \n",
    "RBR adverb, comparative – better \n",
    "RBS adverb, superlative – best \n",
    "RP particle – give up \n",
    "TO – to go ‘to’ the store. \n",
    "UH interjection – errrrrrrrm \n",
    "VB verb, base form – take \n",
    "VBD verb, past tense – took \n",
    "VBG verb, gerund/present participle – taking \n",
    "VBN verb, past participle – taken \n",
    "VBP verb, sing. present, non-3d – take \n",
    "VBZ verb, 3rd person sing. present – takes \n",
    "WDT wh-determiner – which \n",
    "WP wh-pronoun – who, what \n",
    "WP$ possessive wh-pronoun, eg- whose \n",
    "WRB wh-adverb, eg- where, when\n",
    "\n",
    "\n",
    "'''"
   ]
  },
  {
   "cell_type": "code",
   "execution_count": 9,
   "metadata": {},
   "outputs": [
    {
     "name": "stdout",
     "output_type": "stream",
     "text": [
      "[[('aryaman', 'NN'), ('is', 'VBZ'), ('the', 'DT'), ('best', 'JJS'), ('coder', 'NN'), ('in', 'IN'), ('the', 'DT'), ('world', 'NN')]]\n"
     ]
    }
   ],
   "source": [
    "import nltk\n",
    "\n",
    "# Tokenize the sentence\n",
    "sentence = nltk.word_tokenize(\"aryaman is the best coder in the world\")\n",
    "#input should be a list of tokenized sentences\n",
    "# POS tagging\n",
    "tagged_sentence = nltk.pos_tag_sents([sentence])\n",
    "\n",
    "print(tagged_sentence)\n"
   ]
  }
 ],
 "metadata": {
  "kernelspec": {
   "display_name": "base",
   "language": "python",
   "name": "python3"
  },
  "language_info": {
   "codemirror_mode": {
    "name": "ipython",
    "version": 3
   },
   "file_extension": ".py",
   "mimetype": "text/x-python",
   "name": "python",
   "nbconvert_exporter": "python",
   "pygments_lexer": "ipython3",
   "version": "3.11.5"
  }
 },
 "nbformat": 4,
 "nbformat_minor": 2
}
