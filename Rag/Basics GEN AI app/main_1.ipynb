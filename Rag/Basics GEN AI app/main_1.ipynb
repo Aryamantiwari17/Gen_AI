{
 "cells": [
  {
   "cell_type": "code",
   "execution_count": 1,
   "metadata": {},
   "outputs": [
    {
     "data": {
      "text/plain": [
       "True"
      ]
     },
     "execution_count": 1,
     "metadata": {},
     "output_type": "execute_result"
    }
   ],
   "source": [
    "import os\n",
    "from dotenv import load_dotenv\n",
    "load_dotenv()\n"
   ]
  },
  {
   "cell_type": "code",
   "execution_count": null,
   "metadata": {},
   "outputs": [],
   "source": [
    "###open ai \n",
    "#same as gemini but script change\n"
   ]
  },
  {
   "cell_type": "code",
   "execution_count": null,
   "metadata": {},
   "outputs": [],
   "source": [
    "LANGSMITH_TRACING=\"true\"\n",
    "LANGSMITH_ENDPOINT=\"https://api.smith.langchain.com\"\n",
    "os.environ[\"LANGSMITH_API_KEY\"]=os.getenv(\"LANGSMITH_API_KEY\")\n",
    "LANGSMITH_PROJECT=\"test_2\"\n",
    "os.environ['GOOGLE_API_KEY']=os.getenv(\"GOOGLE_API_KEY\")"
   ]
  },
  {
   "cell_type": "code",
   "execution_count": 25,
   "metadata": {},
   "outputs": [
    {
     "name": "stdout",
     "output_type": "stream",
     "text": [
      "J'adore la programmation.\n"
     ]
    }
   ],
   "source": [
    "from langchain_google_genai import ChatGoogleGenerativeAI\n",
    "\n",
    "llm = ChatGoogleGenerativeAI(\n",
    "    model=\"gemini-2.0-flash\",\n",
    "    temperature=0,\n",
    "    max_tokens=40,\n",
    "    timeout=None,\n",
    "    max_retries=2,\n",
    "\n",
    ")\n",
    "messages = [\n",
    "    (\n",
    "        \"system\",\n",
    "        \"You are a helpful assistant that translates English to French. Translate the user sentence.\",\n",
    "    ),\n",
    "    (\"human\", \"I love programming.\"),\n",
    "]\n",
    "ai_msg = llm.invoke(messages)\n",
    "ai_msg\n",
    "print(ai_msg.content)"
   ]
  },
  {
   "cell_type": "code",
   "execution_count": 26,
   "metadata": {},
   "outputs": [
    {
     "name": "stdout",
     "output_type": "stream",
     "text": [
      "content='J' additional_kwargs={} response_metadata={'safety_ratings': []} id='run-6e9478ed-8ea3-449a-8a22-cfd4bc1e9bdd' usage_metadata={'input_tokens': 21, 'output_tokens': 0, 'total_tokens': 21, 'input_token_details': {'cache_read': 0}}\n",
      "content=\"'adore\" additional_kwargs={} response_metadata={'safety_ratings': []} id='run-6e9478ed-8ea3-449a-8a22-cfd4bc1e9bdd' usage_metadata={'input_tokens': 0, 'output_tokens': 0, 'total_tokens': 0, 'input_token_details': {'cache_read': 0}}\n",
      "content=' la programmation.' additional_kwargs={} response_metadata={'finish_reason': 'STOP', 'safety_ratings': []} id='run-6e9478ed-8ea3-449a-8a22-cfd4bc1e9bdd' usage_metadata={'input_tokens': -1, 'output_tokens': 7, 'total_tokens': 6, 'input_token_details': {'cache_read': 0}}\n"
     ]
    }
   ],
   "source": [
    "for chunk in llm.stream(messages):\n",
    "    print(chunk)"
   ]
  },
  {
   "cell_type": "code",
   "execution_count": 6,
   "metadata": {},
   "outputs": [],
   "source": [
    "from langchain_google_genai import ChatGoogleGenerativeAI\n",
    "#from langchain_openai import ChatOpenAI-same as gemini\n",
    "\n",
    "llm = ChatGoogleGenerativeAI(model=\"gemini-2.0-flash\")\n",
    "result=llm.invoke(\"Whai is llms?\")"
   ]
  },
  {
   "cell_type": "code",
   "execution_count": 7,
   "metadata": {},
   "outputs": [
    {
     "name": "stdout",
     "output_type": "stream",
     "text": [
      "content=\"LLMs stands for **Large Language Models**.\\n\\nThey are a type of artificial intelligence (AI) model, specifically a deep learning model, trained on a massive amount of text data. This training allows them to understand and generate human-like text.\\n\\nHere's a breakdown of what that means:\\n\\n*   **Large:** They are trained on extremely large datasets, often containing billions of words from various sources like books, articles, websites, and code.\\n*   **Language:** They are designed to understand and process human language.\\n*   **Models:** They use complex mathematical algorithms (neural networks) to learn patterns and relationships in the data.\\n\\n**Key capabilities of LLMs:**\\n\\n*   **Text Generation:** They can generate coherent and contextually relevant text for various purposes, such as writing articles, creating stories, composing emails, or even writing code.\\n*   **Language Translation:** They can translate text from one language to another.\\n*   **Question Answering:** They can answer questions based on the information they have learned during training.\\n*   **Text Summarization:** They can condense large amounts of text into shorter summaries.\\n*   **Text Completion:** They can predict and complete sentences or paragraphs based on the given context.\\n*   **Chatbots and Conversational AI:** They can be used to create chatbots and virtual assistants that can engage in natural language conversations.\\n*   **Code Generation:** Some LLMs are trained on code and can generate code snippets or even entire programs.\\n\\n**Examples of LLMs:**\\n\\n*   **GPT-3, GPT-4 (OpenAI):** Known for their powerful text generation capabilities.\\n*   **LaMDA (Google):** Focused on conversational AI.\\n*   **BERT (Google):** Designed for understanding the context of words in a sentence.\\n*   **Llama (Meta):** An open-source LLM.\\n*   **Bard (Google):** A conversational AI service powered by LLMs.\\n\\n**In summary, LLMs are powerful AI models that can understand, generate, and manipulate human language, enabling a wide range of applications in various fields.**\" additional_kwargs={} response_metadata={'prompt_feedback': {'block_reason': 0, 'safety_ratings': []}, 'finish_reason': 'STOP', 'safety_ratings': []} id='run-c5a83bc0-76f8-4193-8e6e-2b7e35d080a9-0' usage_metadata={'input_tokens': 6, 'output_tokens': 442, 'total_tokens': 448, 'input_token_details': {'cache_read': 0}}\n"
     ]
    }
   ],
   "source": [
    "print(result)"
   ]
  },
  {
   "cell_type": "code",
   "execution_count": 9,
   "metadata": {},
   "outputs": [
    {
     "data": {
      "text/plain": [
       "ChatPromptTemplate(input_variables=['input'], input_types={}, partial_variables={}, messages=[SystemMessagePromptTemplate(prompt=PromptTemplate(input_variables=[], input_types={}, partial_variables={}, template='You are an expert AI Engineer.Provide me answer based on the question'), additional_kwargs={}), HumanMessagePromptTemplate(prompt=PromptTemplate(input_variables=['input'], input_types={}, partial_variables={}, template='{input}'), additional_kwargs={})])"
      ]
     },
     "execution_count": 9,
     "metadata": {},
     "output_type": "execute_result"
    }
   ],
   "source": [
    "##chat prompt template\n",
    "from langchain_core.prompts import ChatPromptTemplate\n",
    "prompt=ChatPromptTemplate.from_messages(\n",
    "    [\n",
    "        (\"system\",\"You are an expert AI Engineer.Provide me answer based on the question\"),\n",
    "        (\"user\",\"{input}\")\n",
    "    ]\n",
    ")\n",
    "prompt"
   ]
  },
  {
   "cell_type": "code",
   "execution_count": 10,
   "metadata": {},
   "outputs": [
    {
     "name": "stdout",
     "output_type": "stream",
     "text": [
      "content='Okay, I can definitely tell you about Mark Zuckerberg. Here\\'s a breakdown of information about him, covering various aspects of his life and career:\\n\\n**Mark Zuckerberg: A Summary**\\n\\n*   **Full Name:** Mark Elliot Zuckerberg\\n*   **Born:** May 14, 1984 (age 39 as of October 26, 2023) in White Plains, New York, USA\\n*   **Nationality:** American\\n*   **Occupation:** Technology Entrepreneur, Philanthropist\\n*   **Known For:** Co-founding Facebook (now Meta Platforms)\\n\\n**Key Aspects of His Life and Career:**\\n\\n1.  **Early Life and Education:**\\n\\n    *   Zuckerberg displayed an early aptitude for computer programming.\\n    *   He created software programs like ZuckNet (an instant messaging program for his family) in his youth.\\n    *   He attended Harvard University, where he studied computer science and psychology.\\n    *   He dropped out of Harvard in 2004 to focus on Facebook full-time.\\n\\n2.  **Founding Facebook (Meta Platforms):**\\n\\n    *   In 2004, while at Harvard, Zuckerberg, along with Eduardo Saverin, Dustin Moskovitz, Andrew McCollum, and Chris Hughes, launched \"The Facebook\" (later simplified to Facebook).\\n    *   Initially, it was a social networking site exclusively for Harvard students.\\n    *   It quickly expanded to other universities and eventually to the general public.\\n    *   Facebook\\'s rapid growth and widespread adoption revolutionized social networking.\\n\\n3.  **Facebook\\'s Evolution and Acquisitions:**\\n\\n    *   Under Zuckerberg\\'s leadership, Facebook grew into the world\\'s largest social media platform.\\n    *   The company made several key acquisitions, including:\\n        *   **Instagram (2012):** A photo and video-sharing platform.\\n        *   **WhatsApp (2014):** A messaging app.\\n        *   **Oculus VR (2014):** A virtual reality technology company.\\n\\n4.  **Meta Platforms and the Metaverse:**\\n\\n    *   In 2021, Facebook rebranded as Meta Platforms Inc. to reflect the company\\'s focus on the metaverse.\\n    *   The metaverse is envisioned as a persistent, shared virtual world where users can interact with each other and digital objects.\\n    *   Zuckerberg has invested heavily in metaverse technologies, including virtual reality (VR) and augmented reality (AR).\\n\\n5.  **Leadership Style and Management:**\\n\\n    *   Zuckerberg is known for his hands-on approach to management and his focus on innovation.\\n    *   He has a reputation for being data-driven and analytical.\\n    *   His leadership has been both praised for its vision and criticized for its impact on privacy and society.\\n\\n6.  **Philanthropy:**\\n\\n    *   In 2010, Zuckerberg signed the Giving Pledge, committing to donate the majority of his wealth to charitable causes.\\n    *   He and his wife, Priscilla Chan, established the Chan Zuckerberg Initiative (CZI), which focuses on areas such as education, science, and justice and opportunity.\\n\\n7.  **Controversies and Criticisms:**\\n\\n    *   Facebook has faced numerous controversies, including:\\n        *   **Data privacy concerns:** Cambridge Analytica scandal and other data breaches.\\n        *   **Misinformation and fake news:** The spread of false information on the platform.\\n        *   **Antitrust concerns:** Accusations of monopolistic practices.\\n        *   **Impact on mental health:** Concerns about the effects of social media on users\\' well-being.\\n    *   Zuckerberg has been called to testify before Congress on multiple occasions to address these issues.\\n\\n8.  **Personal Life:**\\n\\n    *   He is married to Priscilla Chan, a philanthropist and pediatrician.\\n    *   They have three daughters.\\n    *   Zuckerberg is known for his relatively simple lifestyle, often wearing the same style of clothing.\\n\\n**In summary:** Mark Zuckerberg is a complex and influential figure who has had a profound impact on the world through the creation of Facebook/Meta. He is a visionary entrepreneur, but his company has also faced significant challenges and criticisms related to its impact on society.' additional_kwargs={} response_metadata={'prompt_feedback': {'block_reason': 0, 'safety_ratings': []}, 'finish_reason': 'STOP', 'safety_ratings': []} id='run-7c4208cc-0f11-43b5-ab7a-23a44ff1f71f-0' usage_metadata={'input_tokens': 26, 'output_tokens': 916, 'total_tokens': 942, 'input_token_details': {'cache_read': 0}}\n"
     ]
    }
   ],
   "source": [
    "chain=prompt|llm #means from prompt to llm\n",
    "response=chain.invoke({\"input=can you tell about zukerberg?\"})\n",
    "print(response)"
   ]
  },
  {
   "cell_type": "code",
   "execution_count": 11,
   "metadata": {},
   "outputs": [
    {
     "data": {
      "text/plain": [
       "langchain_core.messages.ai.AIMessage"
      ]
     },
     "execution_count": 11,
     "metadata": {},
     "output_type": "execute_result"
    }
   ],
   "source": [
    "type(response)"
   ]
  },
  {
   "cell_type": "code",
   "execution_count": 12,
   "metadata": {},
   "outputs": [
    {
     "name": "stdout",
     "output_type": "stream",
     "text": [
      "Okay, I can definitely tell you about Sam Altman. Here's a breakdown of who he is, what he's known for, and some key aspects of his career:\n",
      "\n",
      "**Who is Sam Altman?**\n",
      "\n",
      "Sam Altman is an American entrepreneur, investor, programmer, and blogger. He is best known as the CEO of OpenAI, a leading artificial intelligence research company. He's also a significant figure in the world of startups and venture capital.\n",
      "\n",
      "**Key Highlights and Accomplishments:**\n",
      "\n",
      "*   **CEO of OpenAI:** This is arguably his most prominent role. He leads OpenAI in its mission to develop and promote friendly AI, ensuring that artificial general intelligence (AGI) benefits all of humanity. OpenAI's creations include:\n",
      "    *   **GPT Models (GPT-3, GPT-4, etc.):** These are powerful language models used for a wide range of applications, from content generation to chatbots.\n",
      "    *   **DALL-E:** An AI system that creates realistic images and art from text descriptions.\n",
      "    *   **Other AI Research:** OpenAI is involved in various other AI research areas, including robotics and reinforcement learning.\n",
      "*   **Former President of Y Combinator:** Before OpenAI, Altman was the president of Y Combinator (YC), a highly influential startup accelerator. He held this position from 2014 to 2019. YC has funded and mentored numerous successful companies, including:\n",
      "    *   Airbnb\n",
      "    *   Dropbox\n",
      "    *   Stripe\n",
      "    *   Reddit\n",
      "    *   Coinbase\n",
      "*   **Loopt:** He co-founded Loopt, a location-based social networking app, in 2005. While Loopt didn't become a massive success, it was an early example of location-based services and provided Altman with valuable entrepreneurial experience. Loopt was acquired by Green Dot Corporation in 2012.\n",
      "*   **Investor:** Altman is an active investor in various startups and technology companies.\n",
      "*   **Worldcoin:** Sam Altman is also the founder of Worldcoin, a new cryptocurrency project.\n",
      "\n",
      "**Key Aspects of his Career and Philosophy:**\n",
      "\n",
      "*   **Focus on AI Safety:** Altman is a vocal advocate for responsible AI development and the importance of AI safety. He believes that AGI has the potential to be incredibly beneficial but also poses significant risks if not developed carefully.\n",
      "*   **Technological Optimism:** He generally holds an optimistic view of technology's potential to solve major global challenges.\n",
      "*   **Entrepreneurial Drive:** He's known for his strong work ethic, ambition, and ability to identify and pursue promising opportunities.\n",
      "*   **Controversial Figure:** Altman's views on AI, his leadership at OpenAI, and his involvement in projects like Worldcoin have sometimes drawn criticism and sparked debate. Some concerns revolve around the potential risks of advanced AI, the concentration of power in AI companies, and the ethical implications of certain technologies.\n",
      "\n",
      "**In Summary:**\n",
      "\n",
      "Sam Altman is a prominent figure in the technology world, particularly in the areas of artificial intelligence and startups. He is a key driver of AI innovation through his leadership at OpenAI, and he has played a significant role in shaping the startup landscape through his involvement with Y Combinator. He's a complex and influential individual with a vision for the future of technology and its impact on society.\n"
     ]
    }
   ],
   "source": [
    "## stroutput Parser\n",
    "from langchain_core.output_parsers import StrOutputParser\n",
    "output_parser=StrOutputParser()\n",
    "chain=prompt|llm|output_parser#OutputParser that parses LLMResult into the top likely string.\n",
    "response=chain.invoke({\"input=can you tell about Sam Altman?\"})\n",
    "print(response)\n",
    "#type(response) --> String\n"
   ]
  },
  {
   "cell_type": "code",
   "execution_count": null,
   "metadata": {},
   "outputs": [],
   "source": []
  },
  {
   "cell_type": "code",
   "execution_count": null,
   "metadata": {},
   "outputs": [],
   "source": []
  },
  {
   "cell_type": "code",
   "execution_count": null,
   "metadata": {},
   "outputs": [],
   "source": []
  }
 ],
 "metadata": {
  "kernelspec": {
   "display_name": "myenv1",
   "language": "python",
   "name": "python3"
  },
  "language_info": {
   "codemirror_mode": {
    "name": "ipython",
    "version": 3
   },
   "file_extension": ".py",
   "mimetype": "text/x-python",
   "name": "python",
   "nbconvert_exporter": "python",
   "pygments_lexer": "ipython3",
   "version": "3.12.3"
  }
 },
 "nbformat": 4,
 "nbformat_minor": 2
}
