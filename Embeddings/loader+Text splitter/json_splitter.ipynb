{
 "cells": [
  {
   "cell_type": "code",
   "execution_count": 33,
   "metadata": {},
   "outputs": [
    {
     "name": "stdout",
     "output_type": "stream",
     "text": [
      "<class 'list'>\n"
     ]
    }
   ],
   "source": [
    "import json\n",
    "import requests\n",
    "\n",
    "json_data=requests.get(\"https://api.github.com/repositories/19438/issues\").json()\n",
    "#json_data\n",
    "\n",
    "print(type(json_data))\n"
   ]
  },
  {
   "cell_type": "code",
   "execution_count": null,
   "metadata": {},
   "outputs": [
    {
     "data": {
      "text/plain": [
       "'from langchain_text_splitters import RecursiveJsonSplitter\\njson_splitter=RecursiveJsonSplitter(max_chunk_size=90)\\njson_chunks=json_splitter.split_json(json_data)\\njson_chunks'"
      ]
     },
     "execution_count": 15,
     "metadata": {},
     "output_type": "execute_result"
    }
   ],
   "source": [
    "'''\n",
    "from langchain_text_splitters import RecursiveJsonSplitter\n",
    "json_splitter=RecursiveJsonSplitter(max_chunk_size=90)\n",
    "json_chunks=json_splitter.split_json(json_data)\n",
    "json_chunks\n",
    "'''"
   ]
  },
  {
   "cell_type": "code",
   "execution_count": 30,
   "metadata": {},
   "outputs": [
    {
     "name": "stdout",
     "output_type": "stream",
     "text": [
      "{'data': {'0': {'url': 'https://api.github.com/repos/tidyverse/ggplot2/issues/6366'}}}\n",
      "<class 'dict'>\n",
      "{'data': {'0': {'repository_url': 'https://api.github.com/repos/tidyverse/ggplot2'}}}\n",
      "<class 'dict'>\n",
      "{'data': {'0': {'labels_url': 'https://api.github.com/repos/tidyverse/ggplot2/issues/6366/labels{/name}'}}}\n",
      "<class 'dict'>\n",
      "{'data': {'0': {'comments_url': 'https://api.github.com/repos/tidyverse/ggplot2/issues/6366/comments'}}}\n",
      "<class 'dict'>\n",
      "{'data': {'0': {'events_url': 'https://api.github.com/repos/tidyverse/ggplot2/issues/6366/events'}}}\n",
      "<class 'dict'>\n"
     ]
    }
   ],
   "source": [
    "from langchain_text_splitters import RecursiveJsonSplitter\n",
    "\n",
    "# Assuming json_data is already a list (not a string)\n",
    "json_splitter = RecursiveJsonSplitter(max_chunk_size=100)\n",
    "\n",
    "# If json_data is a list, wrap it in a dictionary\n",
    "if isinstance(json_data, list):\n",
    "    json_data = {\"data\": json_data}\n",
    "\n",
    "json_chunks = json_splitter.split_json(json_data, convert_lists=True)\n",
    "#print(json_chunks)\n",
    "\n",
    "for chunk in json_chunks[:5]:\n",
    "    print(chunk)\n",
    "    print(type(chunk))"
   ]
  },
  {
   "cell_type": "code",
   "execution_count": 32,
   "metadata": {},
   "outputs": [
    {
     "name": "stdout",
     "output_type": "stream",
     "text": [
      "{\"data\": {\"0\": {\"url\": \"https://api.github.com/repos/tidyverse/ggplot2/issues/6366\"}}}\n",
      "<class 'langchain_core.documents.base.Document'>\n",
      "{\"data\": {\"0\": {\"repository_url\": \"https://api.github.com/repos/tidyverse/ggplot2\"}}}\n",
      "<class 'langchain_core.documents.base.Document'>\n",
      "{\"data\": {\"0\": {\"labels_url\": \"https://api.github.com/repos/tidyverse/ggplot2/issues/6366/labels{/name}\"}}}\n",
      "<class 'langchain_core.documents.base.Document'>\n",
      "{\"data\": {\"0\": {\"comments_url\": \"https://api.github.com/repos/tidyverse/ggplot2/issues/6366/comments\"}}}\n",
      "<class 'langchain_core.documents.base.Document'>\n",
      "{\"data\": {\"0\": {\"events_url\": \"https://api.github.com/repos/tidyverse/ggplot2/issues/6366/events\"}}}\n",
      "<class 'langchain_core.documents.base.Document'>\n"
     ]
    }
   ],
   "source": [
    "import json\n",
    "from langchain_text_splitters import RecursiveJsonSplitter\n",
    "from langchain.schema import Document  # Import Document class\n",
    "\n",
    "json_splitter = RecursiveJsonSplitter(max_chunk_size=100)\n",
    "\n",
    "# Ensure json_data is in dictionary form (if it's a list, wrap it in a dict)\n",
    "if isinstance(json_data, list):\n",
    "    json_data = {\"data\": json_data}\n",
    "\n",
    "# Split JSON into chunks\n",
    "json_chunks = json_splitter.split_json(json_data, convert_lists=True)\n",
    "\n",
    "# Ensure json_chunks is not empty before proceeding\n",
    "if not json_chunks:\n",
    "    raise ValueError(\"No JSON chunks were generated. Check the input JSON format.\")\n",
    "\n",
    "# Create documents\n",
    "docs = [Document(page_content=json.dumps(chunk, ensure_ascii=False)) for chunk in json_chunks]\n",
    "\n",
    "# Print first 5 documents\n",
    "for doc in docs[:5]:\n",
    "    print(doc.page_content)\n",
    "    print(type(doc))\n"
   ]
  }
 ],
 "metadata": {
  "kernelspec": {
   "display_name": "myenv",
   "language": "python",
   "name": "python3"
  },
  "language_info": {
   "codemirror_mode": {
    "name": "ipython",
    "version": 3
   },
   "file_extension": ".py",
   "mimetype": "text/x-python",
   "name": "python",
   "nbconvert_exporter": "python",
   "pygments_lexer": "ipython3",
   "version": "3.12.3"
  }
 },
 "nbformat": 4,
 "nbformat_minor": 2
}
