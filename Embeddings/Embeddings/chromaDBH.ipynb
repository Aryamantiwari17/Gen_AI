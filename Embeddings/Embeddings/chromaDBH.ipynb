{
 "cells": [
  {
   "cell_type": "code",
   "execution_count": null,
   "metadata": {},
   "outputs": [],
   "source": [
    "from langchain_chroma import Chroma\n",
    "from langchain_community.document_loaders import TextLoader\n",
    "from langchain_huggingface import HuggingFaceEmbeddings\n",
    "from langchain_text_splitters import RecursiveCharacterTextSplitter\n",
    "\n"
   ]
  },
  {
   "cell_type": "code",
   "execution_count": 2,
   "metadata": {},
   "outputs": [
    {
     "data": {
      "text/plain": [
       "[Document(metadata={'source': 'ui.txt'}, page_content='In 2007, Zee Entertainment Enterprises founded the Indian Cricket League (ICL).[20] The ICL was not recognized by the Board of Control for Cricket in India (BCCI) or the International Cricket Council (ICC). Moreover, the BCCI was unhappy about its committee members joining the ICL executive board.[21] In response, the BCCI increased the prize money for its domestic tournaments and imposed lifetime bans on players who joined the rival league, which it considered a rebel league.[22][23]\\nFoundation.On 13 September 2007,[24] at the start of the 2007 ICC World Twenty20, the BCCI announced a franchise based Twenty20 cricket competition known as the Indian Premier League. The inaugural season was scheduled to start in April 2008, commencing with a \"high-profile ceremony\" in New Delhi. BCCI Vice-president Lalit Modi, who led the IPL initiative, provided details of the tournament, including its format, prize money, franchise revenue system, and squad composition rules. The league, to be managed by a seven-man governing council, would also serve as the qualifying mechanism for that year\\'s Champions League Twenty20.[24][25]\\nTo determine team ownership, an auction for the franchises was held on 24 January 2008. The reserve prices for the eight franchises totalled $400 million,[23] but the auction ultimately raised $723.59 million.[26] The league officially commenced in April 2008, featuring Chennai Super Kings (CSK), Mumbai Indians (MI), Delhi Daredevils (DD), Kings XI Punjab (KXIP), Deccan Chargers (DC), Rajasthan Royals (RR), Kolkata Knight Riders (KKR), and Royal Challengers Bangalore (RCB).[27]\\nFollowing the ban on players who chose to participate in the ICL, the rival league shut down in 2009.[28][29]'),\n",
       " Document(metadata={'source': 'ui.txt'}, page_content='A match during the 2008 IPL inaugural season in Chennai\\nExpansions and terminations\\nNew franchises, Pune Warriors India and Kochi Tuskers Kerala, joined the league before the fourth season in 2011.[30] The Sahara Adventure Sports Group purchased the Pune franchise for $370 million, while Rendezvous Sports World bought the Kochi franchise for $333.3 million.[30] The Kochi franchise was terminated after just one season due to their failure to pay the BCCI the 10% bank guarantee element of the franchise fee.[31]\\n\\nIn September 2012, the Deccan Chargers franchise agreement was terminated after the BCCI failed to find new owners.[32] In October, an auction was held for a replacement franchise; Sun TV Network won the bid for what became the Hyderabad franchise;[33] the team was named Sunrisers Hyderabad.[34]\\n\\t\\t\\n        Photograph your local culture, help Wikipedia and win!\\nHide\\nContents hide\\n(Top)\\nHistory\\n\\nOrganization\\n\\nUnique rules and variations\\nTeams\\n\\nVenues\\nTournament seasons and results\\n\\nTeams\\' performances\\n\\nRecords and statistics\\n\\nAwards\\n\\nFinances\\n\\nBroadcasting\\n\\nControversies\\n\\nExplanatory notes\\nSee also\\nReferences\\nExternal links\\nIndian Premier League\\n\\nArticle\\nTalk\\nRead\\nView source\\nView history\\n\\nTools\\nAppearance hide\\nText\\n\\nSmall\\n\\nStandard\\n\\nLarge\\nWidth\\n\\nStandard\\n\\nWide\\nColor (beta)\\n\\nAutomatic\\n\\nLight\\n\\nDark\\nPage semi-protected\\nFrom Wikipedia, the free encyclopedia\\nFor the women\\'s tournament, see Women\\'s Premier League (cricket).\\n\"IPL\" redirects here. For other uses, see IPL (disambiguation).'),\n",
       " Document(metadata={'source': 'ui.txt'}, page_content=\"This article contains one or more duplicated citations.\\nIt is recommended to use named references to consolidate citations that are used multiple times. (March 2025) (Learn how and when to remove this message)\\nIndian Premier League\\nTournament logo\\nCountries\\tIndia\\nAdministrator\\tBoard of Control for Cricket in India\\nHeadquarters\\tCricket Centre, Churchgate, Mumbai, Maharashtra, India\\nFormat\\tTwenty20\\nFirst edition\\t2008\\nLatest edition\\t2024\\nTournament format\\tDouble round-robin format\\nPlayoffs\\nCurrent champion\\tKolkata Knight Riders\\n(3rd title)\\nMost successful\\tChennai Super Kings\\nMumbai Indians\\n(5 titles each)\\nMost runs\\tVirat Kohli (8,063)\\n(Royal Challengers Bengaluru)\\nMost wickets\\tYuzvendra Chahal (205)\\n(Punjab Kings)\\nTV\\tList of broadcasters\\nWebsite\\tiplt20.com\\n 2025\\nSeasons\\n200820092010201120122013201420152016201720182019202020212022202320242025\\nThe Indian Premier League (IPL) is a professional Twenty20 cricket league in India organised by the Board of Cricket Control in India (BCCI).[1] Founded in 2007, the league features ten state or city-based franchise teams.[2] The IPL is the most popular and richest cricket league in the world and is held between March and May. It has an exclusive window in the ICC Future Tours Programme, resulting in fewer international cricket tours occurring during the IPL seasons.[3] It is also India's most viewed sports competition followed by the Pro Kabaddi League and Indian Super League, as per BARC.[4][5]\"),\n",
       " Document(metadata={'source': 'ui.txt'}, page_content=\"In 2014, it ranked sixth in attendance among all sports leagues.[6] In 2010, the IPL became the first sporting event to be broadcast live on YouTube.[7][8] Inspired by the success of the IPL, other Indian sports leagues have been established.[a][11][12] In 2022, the league's brand value was estimated at ₹90,038 crore (US$11 billion).[13] According to the BCCI, the 2015 IPL season contributed ₹1,150 crore (US$140 million) to India's GDP.[14] In December 2022, the IPL achieved a valuation of US$10.9 billion, becoming a decacorn and registering a 75% growth in dollar terms since 2020 when it was valued at $6.2 billion, according to a report by the consulting firm D and P Advisory.[15] Its 2023 final became the most streamed live event on the internet, with 32 million viewers.[16]\\n\\nIn 2023, the league sold its media rights for the next 4 seasons for US$6.4 billion to Viacom18 and Star Sports,[17] meaning each IPL match was valued at $13.4 million.[18] As of 2024, there have been seventeen seasons of the tournament. The current champions are the Kolkata Knight Riders, who won the 2024 season after defeating Sunrisers Hyderabad in the final.[19]\\n\\nHistory\\nWinners\\nIndian Premier League\\nSeason\\tWinners\\n2008\\tRajasthan Royals\\n2009\\tDeccan Chargers\\n2010\\tChennai Super Kings\\n2011\\tChennai Super Kings (2)\\n2012\\tKolkata Knight Riders\\n2013\\tMumbai Indians\\n2014\\tKolkata Knight Riders (2)\\n2015\\tMumbai Indians (2)\\n2016\\tSunrisers Hyderabad \\n2017\\tMumbai Indians (3)\\n2018\\tChennai Super Kings (3)\\n2019\\tMumbai Indians (4)\\n2020\\tMumbai Indians (5)\\n2021\\tChennai Super Kings (4)\\n2022\\tGujarat Titans\\n2023\\tChennai Super Kings (5)\\n2024\\tKolkata Knight Riders (3)\\nInspired by a rival\\n\\nPune Warriors India withdrew from the IPL in May 2013 due to financial differences with the BCCI.[35] The BCCI officially terminated the franchise in October, and the league reverted to eight teams.[\")]"
      ]
     },
     "execution_count": 2,
     "metadata": {},
     "output_type": "execute_result"
    }
   ],
   "source": [
    "loader=TextLoader(\"ui.txt\")\n",
    "document=loader.load()\n",
    "text_split=RecursiveCharacterTextSplitter(chunk_size=2000,chunk_overlap=0)\n",
    "docs=text_split.split_documents(document)\n",
    "docs"
   ]
  },
  {
   "cell_type": "code",
   "execution_count": 3,
   "metadata": {},
   "outputs": [
    {
     "name": "stderr",
     "output_type": "stream",
     "text": [
      "/home/aryamantiwari17/myenv/lib/python3.12/site-packages/tqdm/auto.py:21: TqdmWarning: IProgress not found. Please update jupyter and ipywidgets. See https://ipywidgets.readthedocs.io/en/stable/user_install.html\n",
      "  from .autonotebook import tqdm as notebook_tqdm\n",
      "2025-03-27 01:43:45.630813: I tensorflow/core/util/port.cc:153] oneDNN custom operations are on. You may see slightly different numerical results due to floating-point round-off errors from different computation orders. To turn them off, set the environment variable `TF_ENABLE_ONEDNN_OPTS=0`.\n",
      "2025-03-27 01:43:45.645346: E external/local_xla/xla/stream_executor/cuda/cuda_fft.cc:467] Unable to register cuFFT factory: Attempting to register factory for plugin cuFFT when one has already been registered\n",
      "WARNING: All log messages before absl::InitializeLog() is called are written to STDERR\n",
      "E0000 00:00:1743020025.661918   39002 cuda_dnn.cc:8579] Unable to register cuDNN factory: Attempting to register factory for plugin cuDNN when one has already been registered\n",
      "E0000 00:00:1743020025.666330   39002 cuda_blas.cc:1407] Unable to register cuBLAS factory: Attempting to register factory for plugin cuBLAS when one has already been registered\n",
      "W0000 00:00:1743020025.678186   39002 computation_placer.cc:177] computation placer already registered. Please check linkage and avoid linking the same target more than once.\n",
      "W0000 00:00:1743020025.678206   39002 computation_placer.cc:177] computation placer already registered. Please check linkage and avoid linking the same target more than once.\n",
      "W0000 00:00:1743020025.678208   39002 computation_placer.cc:177] computation placer already registered. Please check linkage and avoid linking the same target more than once.\n",
      "W0000 00:00:1743020025.678209   39002 computation_placer.cc:177] computation placer already registered. Please check linkage and avoid linking the same target more than once.\n",
      "2025-03-27 01:43:45.682150: I tensorflow/core/platform/cpu_feature_guard.cc:210] This TensorFlow binary is optimized to use available CPU instructions in performance-critical operations.\n",
      "To enable the following instructions: AVX2 AVX512F AVX512_VNNI FMA, in other operations, rebuild TensorFlow with the appropriate compiler flags.\n"
     ]
    },
    {
     "data": {
      "text/plain": [
       "<langchain_chroma.vectorstores.Chroma at 0x7a9ba1e55f40>"
      ]
     },
     "execution_count": 3,
     "metadata": {},
     "output_type": "execute_result"
    }
   ],
   "source": [
    "embeddings=HuggingFaceEmbeddings()\n",
    "vectordb=Chroma.from_documents(docs,embeddings)\n",
    "vectordb"
   ]
  },
  {
   "cell_type": "code",
   "execution_count": 15,
   "metadata": {},
   "outputs": [
    {
     "data": {
      "text/plain": [
       "[Document(id='593d8158-bbd1-46fa-86cd-cd5c469238f8', metadata={'source': 'ui.txt'}, page_content='In 2007, Zee Entertainment Enterprises founded the Indian Cricket League (ICL).[20] The ICL was not recognized by the Board of Control for Cricket in India (BCCI) or the International Cricket Council (ICC). Moreover, the BCCI was unhappy about its committee members joining the ICL executive board.[21] In response, the BCCI increased the prize money for its domestic tournaments and imposed lifetime bans on players who joined the rival league, which it considered a rebel league.[22][23]\\nFoundation.On 13 September 2007,[24] at the start of the 2007 ICC World Twenty20, the BCCI announced a franchise based Twenty20 cricket competition known as the Indian Premier League. The inaugural season was scheduled to start in April 2008, commencing with a \"high-profile ceremony\" in New Delhi. BCCI Vice-president Lalit Modi, who led the IPL initiative, provided details of the tournament, including its format, prize money, franchise revenue system, and squad composition rules. The league, to be managed by a seven-man governing council, would also serve as the qualifying mechanism for that year\\'s Champions League Twenty20.[24][25]\\nTo determine team ownership, an auction for the franchises was held on 24 January 2008. The reserve prices for the eight franchises totalled $400 million,[23] but the auction ultimately raised $723.59 million.[26] The league officially commenced in April 2008, featuring Chennai Super Kings (CSK), Mumbai Indians (MI), Delhi Daredevils (DD), Kings XI Punjab (KXIP), Deccan Chargers (DC), Rajasthan Royals (RR), Kolkata Knight Riders (KKR), and Royal Challengers Bangalore (RCB).[27]\\nFollowing the ban on players who chose to participate in the ICL, the rival league shut down in 2009.[28][29]'),\n",
       " Document(id='2fafb8e9-36cb-421d-b19f-4bc24371cd83', metadata={'source': 'ui.txt'}, page_content='A match during the 2008 IPL inaugural season in Chennai\\nExpansions and terminations\\nNew franchises, Pune Warriors India and Kochi Tuskers Kerala, joined the league before the fourth season in 2011.[30] The Sahara Adventure Sports Group purchased the Pune franchise for $370 million, while Rendezvous Sports World bought the Kochi franchise for $333.3 million.[30] The Kochi franchise was terminated after just one season due to their failure to pay the BCCI the 10% bank guarantee element of the franchise fee.[31]\\n\\nIn September 2012, the Deccan Chargers franchise agreement was terminated after the BCCI failed to find new owners.[32] In October, an auction was held for a replacement franchise; Sun TV Network won the bid for what became the Hyderabad franchise;[33] the team was named Sunrisers Hyderabad.[34]\\n\\t\\t\\n        Photograph your local culture, help Wikipedia and win!\\nHide\\nContents hide\\n(Top)\\nHistory\\n\\nOrganization\\n\\nUnique rules and variations\\nTeams\\n\\nVenues\\nTournament seasons and results\\n\\nTeams\\' performances\\n\\nRecords and statistics\\n\\nAwards\\n\\nFinances\\n\\nBroadcasting\\n\\nControversies\\n\\nExplanatory notes\\nSee also\\nReferences\\nExternal links\\nIndian Premier League\\n\\nArticle\\nTalk\\nRead\\nView source\\nView history\\n\\nTools\\nAppearance hide\\nText\\n\\nSmall\\n\\nStandard\\n\\nLarge\\nWidth\\n\\nStandard\\n\\nWide\\nColor (beta)\\n\\nAutomatic\\n\\nLight\\n\\nDark\\nPage semi-protected\\nFrom Wikipedia, the free encyclopedia\\nFor the women\\'s tournament, see Women\\'s Premier League (cricket).\\n\"IPL\" redirects here. For other uses, see IPL (disambiguation).'),\n",
       " Document(id='7ed5e1d4-7dbc-4a45-963f-170f7db7e4b6', metadata={'source': 'ui.txt'}, page_content=\"In 2014, it ranked sixth in attendance among all sports leagues.[6] In 2010, the IPL became the first sporting event to be broadcast live on YouTube.[7][8] Inspired by the success of the IPL, other Indian sports leagues have been established.[a][11][12] In 2022, the league's brand value was estimated at ₹90,038 crore (US$11 billion).[13] According to the BCCI, the 2015 IPL season contributed ₹1,150 crore (US$140 million) to India's GDP.[14] In December 2022, the IPL achieved a valuation of US$10.9 billion, becoming a decacorn and registering a 75% growth in dollar terms since 2020 when it was valued at $6.2 billion, according to a report by the consulting firm D and P Advisory.[15] Its 2023 final became the most streamed live event on the internet, with 32 million viewers.[16]\\n\\nIn 2023, the league sold its media rights for the next 4 seasons for US$6.4 billion to Viacom18 and Star Sports,[17] meaning each IPL match was valued at $13.4 million.[18] As of 2024, there have been seventeen seasons of the tournament. The current champions are the Kolkata Knight Riders, who won the 2024 season after defeating Sunrisers Hyderabad in the final.[19]\\n\\nHistory\\nWinners\\nIndian Premier League\\nSeason\\tWinners\\n2008\\tRajasthan Royals\\n2009\\tDeccan Chargers\\n2010\\tChennai Super Kings\\n2011\\tChennai Super Kings (2)\\n2012\\tKolkata Knight Riders\\n2013\\tMumbai Indians\\n2014\\tKolkata Knight Riders (2)\\n2015\\tMumbai Indians (2)\\n2016\\tSunrisers Hyderabad \\n2017\\tMumbai Indians (3)\\n2018\\tChennai Super Kings (3)\\n2019\\tMumbai Indians (4)\\n2020\\tMumbai Indians (5)\\n2021\\tChennai Super Kings (4)\\n2022\\tGujarat Titans\\n2023\\tChennai Super Kings (5)\\n2024\\tKolkata Knight Riders (3)\\nInspired by a rival\\n\\nPune Warriors India withdrew from the IPL in May 2013 due to financial differences with the BCCI.[35] The BCCI officially terminated the franchise in October, and the league reverted to eight teams.[\"),\n",
       " Document(id='b46f10bf-bb9e-4ed6-b3a0-f11c33df155b', metadata={'source': 'ui.txt'}, page_content=\"This article contains one or more duplicated citations.\\nIt is recommended to use named references to consolidate citations that are used multiple times. (March 2025) (Learn how and when to remove this message)\\nIndian Premier League\\nTournament logo\\nCountries\\tIndia\\nAdministrator\\tBoard of Control for Cricket in India\\nHeadquarters\\tCricket Centre, Churchgate, Mumbai, Maharashtra, India\\nFormat\\tTwenty20\\nFirst edition\\t2008\\nLatest edition\\t2024\\nTournament format\\tDouble round-robin format\\nPlayoffs\\nCurrent champion\\tKolkata Knight Riders\\n(3rd title)\\nMost successful\\tChennai Super Kings\\nMumbai Indians\\n(5 titles each)\\nMost runs\\tVirat Kohli (8,063)\\n(Royal Challengers Bengaluru)\\nMost wickets\\tYuzvendra Chahal (205)\\n(Punjab Kings)\\nTV\\tList of broadcasters\\nWebsite\\tiplt20.com\\n 2025\\nSeasons\\n200820092010201120122013201420152016201720182019202020212022202320242025\\nThe Indian Premier League (IPL) is a professional Twenty20 cricket league in India organised by the Board of Cricket Control in India (BCCI).[1] Founded in 2007, the league features ten state or city-based franchise teams.[2] The IPL is the most popular and richest cricket league in the world and is held between March and May. It has an exclusive window in the ICC Future Tours Programme, resulting in fewer international cricket tours occurring during the IPL seasons.[3] It is also India's most viewed sports competition followed by the Pro Kabaddi League and Indian Super League, as per BARC.[4][5]\")]"
      ]
     },
     "execution_count": 15,
     "metadata": {},
     "output_type": "execute_result"
    }
   ],
   "source": [
    "##querying\n",
    "query=\"What In 2007, Zee Entertainment Enterprises founded\"\n",
    "docs_1=vectordb.similarity_search(query)\n",
    "docs_1"
   ]
  },
  {
   "cell_type": "code",
   "execution_count": 16,
   "metadata": {},
   "outputs": [],
   "source": [
    "#saving to the disk\n",
    "vectordb=Chroma.from_documents(documents=docs_1,embedding=embeddings,persist_directory=\"./chroma_db\")"
   ]
  },
  {
   "cell_type": "code",
   "execution_count": 25,
   "metadata": {},
   "outputs": [
    {
     "data": {
      "text/plain": [
       "'In 2007, Zee Entertainment Enterprises founded the Indian Cricket League (ICL).[20] The ICL was not recognized by the Board of Control for Cricket in India (BCCI) or the International Cricket Council (ICC). Moreover, the BCCI was unhappy about its committee members joining the ICL executive board.[21] In response, the BCCI increased the prize money for its domestic tournaments and imposed lifetime bans on players who joined the rival league, which it considered a rebel league.[22][23]\\nFoundation.On 13 September 2007,[24] at the start of the 2007 ICC World Twenty20, the BCCI announced a franchise based Twenty20 cricket competition known as the Indian Premier League. The inaugural season was scheduled to start in April 2008, commencing with a \"high-profile ceremony\" in New Delhi. BCCI Vice-president Lalit Modi, who led the IPL initiative, provided details of the tournament, including its format, prize money, franchise revenue system, and squad composition rules. The league, to be managed by a seven-man governing council, would also serve as the qualifying mechanism for that year\\'s Champions League Twenty20.[24][25]\\nTo determine team ownership, an auction for the franchises was held on 24 January 2008. The reserve prices for the eight franchises totalled $400 million,[23] but the auction ultimately raised $723.59 million.[26] The league officially commenced in April 2008, featuring Chennai Super Kings (CSK), Mumbai Indians (MI), Delhi Daredevils (DD), Kings XI Punjab (KXIP), Deccan Chargers (DC), Rajasthan Royals (RR), Kolkata Knight Riders (KKR), and Royal Challengers Bangalore (RCB).[27]\\nFollowing the ban on players who chose to participate in the ICL, the rival league shut down in 2009.[28][29]'"
      ]
     },
     "execution_count": 25,
     "metadata": {},
     "output_type": "execute_result"
    }
   ],
   "source": [
    "db2=Chroma(persist_directory=\"./chroma_db\",embedding_function=embeddings)\n",
    "dgh=db2.similarity_search(query)\n",
    "dgh[0].page_content"
   ]
  },
  {
   "cell_type": "code",
   "execution_count": 24,
   "metadata": {},
   "outputs": [
    {
     "data": {
      "text/plain": [
       "'In 2007, Zee Entertainment Enterprises founded the Indian Cricket League (ICL).[20] The ICL was not recognized by the Board of Control for Cricket in India (BCCI) or the International Cricket Council (ICC). Moreover, the BCCI was unhappy about its committee members joining the ICL executive board.[21] In response, the BCCI increased the prize money for its domestic tournaments and imposed lifetime bans on players who joined the rival league, which it considered a rebel league.[22][23]\\nFoundation.On 13 September 2007,[24] at the start of the 2007 ICC World Twenty20, the BCCI announced a franchise based Twenty20 cricket competition known as the Indian Premier League. The inaugural season was scheduled to start in April 2008, commencing with a \"high-profile ceremony\" in New Delhi. BCCI Vice-president Lalit Modi, who led the IPL initiative, provided details of the tournament, including its format, prize money, franchise revenue system, and squad composition rules. The league, to be managed by a seven-man governing council, would also serve as the qualifying mechanism for that year\\'s Champions League Twenty20.[24][25]\\nTo determine team ownership, an auction for the franchises was held on 24 January 2008. The reserve prices for the eight franchises totalled $400 million,[23] but the auction ultimately raised $723.59 million.[26] The league officially commenced in April 2008, featuring Chennai Super Kings (CSK), Mumbai Indians (MI), Delhi Daredevils (DD), Kings XI Punjab (KXIP), Deccan Chargers (DC), Rajasthan Royals (RR), Kolkata Knight Riders (KKR), and Royal Challengers Bangalore (RCB).[27]\\nFollowing the ban on players who chose to participate in the ICL, the rival league shut down in 2009.[28][29]'"
      ]
     },
     "execution_count": 24,
     "metadata": {},
     "output_type": "execute_result"
    }
   ],
   "source": [
    "## as a Retriever\n",
    "RT=vectordb.as_retriever()\n",
    "dd=RT.invoke(query)\n",
    "dd[0].page_content"
   ]
  },
  {
   "cell_type": "code",
   "execution_count": 18,
   "metadata": {},
   "outputs": [
    {
     "data": {
      "text/plain": [
       "[(Document(id='593d8158-bbd1-46fa-86cd-cd5c469238f8', metadata={'source': 'ui.txt'}, page_content='In 2007, Zee Entertainment Enterprises founded the Indian Cricket League (ICL).[20] The ICL was not recognized by the Board of Control for Cricket in India (BCCI) or the International Cricket Council (ICC). Moreover, the BCCI was unhappy about its committee members joining the ICL executive board.[21] In response, the BCCI increased the prize money for its domestic tournaments and imposed lifetime bans on players who joined the rival league, which it considered a rebel league.[22][23]\\nFoundation.On 13 September 2007,[24] at the start of the 2007 ICC World Twenty20, the BCCI announced a franchise based Twenty20 cricket competition known as the Indian Premier League. The inaugural season was scheduled to start in April 2008, commencing with a \"high-profile ceremony\" in New Delhi. BCCI Vice-president Lalit Modi, who led the IPL initiative, provided details of the tournament, including its format, prize money, franchise revenue system, and squad composition rules. The league, to be managed by a seven-man governing council, would also serve as the qualifying mechanism for that year\\'s Champions League Twenty20.[24][25]\\nTo determine team ownership, an auction for the franchises was held on 24 January 2008. The reserve prices for the eight franchises totalled $400 million,[23] but the auction ultimately raised $723.59 million.[26] The league officially commenced in April 2008, featuring Chennai Super Kings (CSK), Mumbai Indians (MI), Delhi Daredevils (DD), Kings XI Punjab (KXIP), Deccan Chargers (DC), Rajasthan Royals (RR), Kolkata Knight Riders (KKR), and Royal Challengers Bangalore (RCB).[27]\\nFollowing the ban on players who chose to participate in the ICL, the rival league shut down in 2009.[28][29]'),\n",
       "  1.2979933580470648),\n",
       " (Document(id='2fafb8e9-36cb-421d-b19f-4bc24371cd83', metadata={'source': 'ui.txt'}, page_content='A match during the 2008 IPL inaugural season in Chennai\\nExpansions and terminations\\nNew franchises, Pune Warriors India and Kochi Tuskers Kerala, joined the league before the fourth season in 2011.[30] The Sahara Adventure Sports Group purchased the Pune franchise for $370 million, while Rendezvous Sports World bought the Kochi franchise for $333.3 million.[30] The Kochi franchise was terminated after just one season due to their failure to pay the BCCI the 10% bank guarantee element of the franchise fee.[31]\\n\\nIn September 2012, the Deccan Chargers franchise agreement was terminated after the BCCI failed to find new owners.[32] In October, an auction was held for a replacement franchise; Sun TV Network won the bid for what became the Hyderabad franchise;[33] the team was named Sunrisers Hyderabad.[34]\\n\\t\\t\\n        Photograph your local culture, help Wikipedia and win!\\nHide\\nContents hide\\n(Top)\\nHistory\\n\\nOrganization\\n\\nUnique rules and variations\\nTeams\\n\\nVenues\\nTournament seasons and results\\n\\nTeams\\' performances\\n\\nRecords and statistics\\n\\nAwards\\n\\nFinances\\n\\nBroadcasting\\n\\nControversies\\n\\nExplanatory notes\\nSee also\\nReferences\\nExternal links\\nIndian Premier League\\n\\nArticle\\nTalk\\nRead\\nView source\\nView history\\n\\nTools\\nAppearance hide\\nText\\n\\nSmall\\n\\nStandard\\n\\nLarge\\nWidth\\n\\nStandard\\n\\nWide\\nColor (beta)\\n\\nAutomatic\\n\\nLight\\n\\nDark\\nPage semi-protected\\nFrom Wikipedia, the free encyclopedia\\nFor the women\\'s tournament, see Women\\'s Premier League (cricket).\\n\"IPL\" redirects here. For other uses, see IPL (disambiguation).'),\n",
       "  1.4089643006330468),\n",
       " (Document(id='7ed5e1d4-7dbc-4a45-963f-170f7db7e4b6', metadata={'source': 'ui.txt'}, page_content=\"In 2014, it ranked sixth in attendance among all sports leagues.[6] In 2010, the IPL became the first sporting event to be broadcast live on YouTube.[7][8] Inspired by the success of the IPL, other Indian sports leagues have been established.[a][11][12] In 2022, the league's brand value was estimated at ₹90,038 crore (US$11 billion).[13] According to the BCCI, the 2015 IPL season contributed ₹1,150 crore (US$140 million) to India's GDP.[14] In December 2022, the IPL achieved a valuation of US$10.9 billion, becoming a decacorn and registering a 75% growth in dollar terms since 2020 when it was valued at $6.2 billion, according to a report by the consulting firm D and P Advisory.[15] Its 2023 final became the most streamed live event on the internet, with 32 million viewers.[16]\\n\\nIn 2023, the league sold its media rights for the next 4 seasons for US$6.4 billion to Viacom18 and Star Sports,[17] meaning each IPL match was valued at $13.4 million.[18] As of 2024, there have been seventeen seasons of the tournament. The current champions are the Kolkata Knight Riders, who won the 2024 season after defeating Sunrisers Hyderabad in the final.[19]\\n\\nHistory\\nWinners\\nIndian Premier League\\nSeason\\tWinners\\n2008\\tRajasthan Royals\\n2009\\tDeccan Chargers\\n2010\\tChennai Super Kings\\n2011\\tChennai Super Kings (2)\\n2012\\tKolkata Knight Riders\\n2013\\tMumbai Indians\\n2014\\tKolkata Knight Riders (2)\\n2015\\tMumbai Indians (2)\\n2016\\tSunrisers Hyderabad \\n2017\\tMumbai Indians (3)\\n2018\\tChennai Super Kings (3)\\n2019\\tMumbai Indians (4)\\n2020\\tMumbai Indians (5)\\n2021\\tChennai Super Kings (4)\\n2022\\tGujarat Titans\\n2023\\tChennai Super Kings (5)\\n2024\\tKolkata Knight Riders (3)\\nInspired by a rival\\n\\nPune Warriors India withdrew from the IPL in May 2013 due to financial differences with the BCCI.[35] The BCCI officially terminated the franchise in October, and the league reverted to eight teams.[\"),\n",
       "  1.4418242225064655),\n",
       " (Document(id='b46f10bf-bb9e-4ed6-b3a0-f11c33df155b', metadata={'source': 'ui.txt'}, page_content=\"This article contains one or more duplicated citations.\\nIt is recommended to use named references to consolidate citations that are used multiple times. (March 2025) (Learn how and when to remove this message)\\nIndian Premier League\\nTournament logo\\nCountries\\tIndia\\nAdministrator\\tBoard of Control for Cricket in India\\nHeadquarters\\tCricket Centre, Churchgate, Mumbai, Maharashtra, India\\nFormat\\tTwenty20\\nFirst edition\\t2008\\nLatest edition\\t2024\\nTournament format\\tDouble round-robin format\\nPlayoffs\\nCurrent champion\\tKolkata Knight Riders\\n(3rd title)\\nMost successful\\tChennai Super Kings\\nMumbai Indians\\n(5 titles each)\\nMost runs\\tVirat Kohli (8,063)\\n(Royal Challengers Bengaluru)\\nMost wickets\\tYuzvendra Chahal (205)\\n(Punjab Kings)\\nTV\\tList of broadcasters\\nWebsite\\tiplt20.com\\n 2025\\nSeasons\\n200820092010201120122013201420152016201720182019202020212022202320242025\\nThe Indian Premier League (IPL) is a professional Twenty20 cricket league in India organised by the Board of Cricket Control in India (BCCI).[1] Founded in 2007, the league features ten state or city-based franchise teams.[2] The IPL is the most popular and richest cricket league in the world and is held between March and May. It has an exclusive window in the ICC Future Tours Programme, resulting in fewer international cricket tours occurring during the IPL seasons.[3] It is also India's most viewed sports competition followed by the Pro Kabaddi League and Indian Super League, as per BARC.[4][5]\"),\n",
       "  1.5247231392916853)]"
      ]
     },
     "execution_count": 18,
     "metadata": {},
     "output_type": "execute_result"
    }
   ],
   "source": [
    "docs=vectordb.similarity_search_with_score(query)\n",
    "docs"
   ]
  }
 ],
 "metadata": {
  "kernelspec": {
   "display_name": "myenv",
   "language": "python",
   "name": "python3"
  },
  "language_info": {
   "codemirror_mode": {
    "name": "ipython",
    "version": 3
   },
   "file_extension": ".py",
   "mimetype": "text/x-python",
   "name": "python",
   "nbconvert_exporter": "python",
   "pygments_lexer": "ipython3",
   "version": "3.12.3"
  }
 },
 "nbformat": 4,
 "nbformat_minor": 2
}
